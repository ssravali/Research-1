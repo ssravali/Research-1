{
  "nbformat": 4,
  "nbformat_minor": 0,
  "metadata": {
    "colab": {
      "name": "rnn2.ipynb",
      "version": "0.3.2",
      "provenance": [],
      "include_colab_link": true
    },
    "kernelspec": {
      "name": "python3",
      "display_name": "Python 3"
    }
  },
  "cells": [
    {
      "cell_type": "markdown",
      "metadata": {
        "id": "view-in-github",
        "colab_type": "text"
      },
      "source": [
        "<a href=\"https://colab.research.google.com/github/ssravali/Research-1/blob/master/rnn2.ipynb\" target=\"_parent\"><img src=\"https://colab.research.google.com/assets/colab-badge.svg\" alt=\"Open In Colab\"/></a>"
      ]
    },
    {
      "cell_type": "code",
      "metadata": {
        "id": "KKnyssn4vrke",
        "colab_type": "code",
        "outputId": "571e2831-f70b-4698-d1df-57d3383aa662",
        "colab": {
          "base_uri": "https://localhost:8080/",
          "height": 51
        }
      },
      "source": [
        "#Libraries initiated\n",
        "import numpy as np\n",
        "import pickle\n",
        "import matplotlib.pyplot as plt  \n",
        "import pandas as pd\n",
        "from sklearn.model_selection import train_test_split\n",
        "from sklearn.preprocessing import OneHotEncoder\n",
        "import logging\n",
        "from time import time\n",
        "import scipy.io as sio\n",
        "import pandas as pd\n",
        "from keras.layers import Flatten\n",
        "from keras import optimizers\n",
        "from keras.models import Sequential\n",
        "from keras.layers import LSTM, Dense, Dropout\n",
        "from keras.callbacks import EarlyStopping, ModelCheckpoint\n",
        "from keras.preprocessing import sequence\n",
        "from sklearn.metrics import confusion_matrix\n",
        "from sklearn.metrics import classification_report\n",
        "from sklearn.metrics import roc_curve\n",
        "from sklearn.metrics import roc_auc_score\n",
        "from keras.layers import Conv1D\n",
        "from keras.layers import MaxPooling1D\n",
        "import keras\n",
        "print(\"Imported libraries\")"
      ],
      "execution_count": 0,
      "outputs": [
        {
          "output_type": "stream",
          "text": [
            "Using TensorFlow backend.\n"
          ],
          "name": "stderr"
        },
        {
          "output_type": "stream",
          "text": [
            "Imported libraries\n"
          ],
          "name": "stdout"
        }
      ]
    },
    {
      "cell_type": "code",
      "metadata": {
        "id": "QJeyt7LrvwI7",
        "colab_type": "code",
        "outputId": "f8a4e2d2-d102-47ff-8d6e-922127e91797",
        "colab": {
          "base_uri": "https://localhost:8080/",
          "height": 136
        }
      },
      "source": [
        "#Input\n",
        "mat_contents = sio.loadmat('augtestx.mat')\n",
        "test_x = np.array(mat_contents['test_x'])\n",
        "\n",
        "mat_contents = sio.loadmat('augtesty.mat')\n",
        "test_y = np.array(mat_contents['test_y'])\n",
        "\n",
        "mat_contents = sio.loadmat('augtrainx.mat')\n",
        "train_x = np.array(mat_contents['train_x'])\n",
        "\n",
        "mat_contents = sio.loadmat('augtrainy.mat')\n",
        "train_y = np.array(mat_contents['train_y'])\n",
        "\n",
        "trainy = train_y\n",
        "testy = test_y\n",
        "# binary encode\n",
        "train_y = OneHotEncoder(sparse=False,categories='auto').fit_transform(train_y)\n",
        "test_y = OneHotEncoder(sparse=False,categories='auto').fit_transform(test_y)\n",
        "print(\"Train_y one hot:\", train_y.shape)\n",
        "print(\"Test   _y one hot:\", test_y.shape)\n",
        "\n",
        "#train_x = train_x.reshape(400,2800,10,1)\n",
        "#test_x = test_x.reshape(200,2800,10,1)\n",
        "print(train_x.shape)\n",
        "print(test_x.shape)\n",
        "classes = np.unique(trainy)\n",
        "nClasses = len(classes)\n",
        "print('Total number of outputs : ', nClasses)\n",
        "print('Output classes : ', classes)\n",
        "print(\"loaded data\")"
      ],
      "execution_count": 0,
      "outputs": [
        {
          "output_type": "stream",
          "text": [
            "Train_y one hot: (1200, 10)\n",
            "Test   _y one hot: (600, 10)\n",
            "(1200, 2800, 10)\n",
            "(600, 2800, 10)\n",
            "Total number of outputs :  10\n",
            "Output classes :  [0 1 2 3 4 5 6 7 8 9]\n",
            "loaded data\n"
          ],
          "name": "stdout"
        }
      ]
    },
    {
      "cell_type": "code",
      "metadata": {
        "id": "OAZatLBTvz1s",
        "colab_type": "code",
        "outputId": "40f51490-77db-4c6b-cc84-564e04374577",
        "colab": {
          "base_uri": "https://localhost:8080/",
          "height": 2982
        }
      },
      "source": [
        "model = Sequential()\n",
        "model.add(Conv1D(64, kernel_size=(10), activation='relu', \n",
        "                   data_format=\"channels_last\"))\n",
        "model.add(Conv1D(32, kernel_size=(3), activation='relu', \n",
        "                   data_format=\"channels_last\"))\n",
        "model.add(MaxPooling1D(pool_size=(3)))\n",
        "model.add(Dropout(0.5))\n",
        "model.add(LSTM(5))\n",
        "model.add(Dense(10, activation='softmax'))\n",
        "\n",
        "model.compile(loss='mean_squared_error', \n",
        "                optimizer=optimizers.SGD(lr=0.1, momentum=0.9, decay=0.0005), \n",
        "                metrics=['accuracy'])\n",
        "\n",
        "history_log = model.fit(train_x, train_y,batch_size=100,epochs=50,validation_split=0.0,verbose=2)\n",
        "model.summary()\n",
        "# summarize history for accuracy\n",
        "plt.plot(history_log.history['acc'])\n",
        "plt.title('model accuracy')\n",
        "plt.ylabel('accuracy')\n",
        "plt.xlabel('epoch')\n",
        "plt.legend(['train', 'test'], loc='upper left')\n",
        "plt.show()\n",
        "  # summarize history for loss\n",
        "plt.plot(history_log.history['loss'])\n",
        "plt.title('model loss')\n",
        "plt.ylabel('loss')\n",
        "plt.xlabel('epoch')\n",
        "plt.legend(['train', 'test'], loc='upper left')\n",
        "plt.show()\n",
        "score = model.evaluate(test_x, test_y, verbose=1)\n",
        "print('Test loss:', score[0])\n",
        "print('Test accuracy:', score[1]) "
      ],
      "execution_count": 0,
      "outputs": [
        {
          "output_type": "stream",
          "text": [
            "WARNING:tensorflow:From /usr/local/lib/python3.6/dist-packages/tensorflow/python/framework/op_def_library.py:263: colocate_with (from tensorflow.python.framework.ops) is deprecated and will be removed in a future version.\n",
            "Instructions for updating:\n",
            "Colocations handled automatically by placer.\n",
            "WARNING:tensorflow:From /usr/local/lib/python3.6/dist-packages/keras/backend/tensorflow_backend.py:3445: calling dropout (from tensorflow.python.ops.nn_ops) with keep_prob is deprecated and will be removed in a future version.\n",
            "Instructions for updating:\n",
            "Please use `rate` instead of `keep_prob`. Rate should be set to `rate = 1 - keep_prob`.\n",
            "WARNING:tensorflow:From /usr/local/lib/python3.6/dist-packages/tensorflow/python/ops/math_ops.py:3066: to_int32 (from tensorflow.python.ops.math_ops) is deprecated and will be removed in a future version.\n",
            "Instructions for updating:\n",
            "Use tf.cast instead.\n",
            "Epoch 1/50\n",
            " - 18s - loss: 0.0900 - acc: 0.1000\n",
            "Epoch 2/50\n",
            " - 17s - loss: 0.0900 - acc: 0.1067\n",
            "Epoch 3/50\n",
            " - 17s - loss: 0.0900 - acc: 0.0992\n",
            "Epoch 4/50\n",
            " - 17s - loss: 0.0900 - acc: 0.0942\n",
            "Epoch 5/50\n",
            " - 17s - loss: 0.0900 - acc: 0.1000\n",
            "Epoch 6/50\n",
            " - 17s - loss: 0.0900 - acc: 0.0992\n",
            "Epoch 7/50\n",
            " - 17s - loss: 0.0900 - acc: 0.1008\n",
            "Epoch 8/50\n",
            " - 17s - loss: 0.0900 - acc: 0.1025\n",
            "Epoch 9/50\n",
            " - 17s - loss: 0.0900 - acc: 0.1025\n",
            "Epoch 10/50\n",
            " - 17s - loss: 0.0899 - acc: 0.1042\n",
            "Epoch 11/50\n",
            " - 17s - loss: 0.0899 - acc: 0.1075\n",
            "Epoch 12/50\n",
            " - 17s - loss: 0.0899 - acc: 0.0992\n",
            "Epoch 13/50\n",
            " - 17s - loss: 0.0899 - acc: 0.1025\n",
            "Epoch 14/50\n",
            " - 17s - loss: 0.0899 - acc: 0.1150\n",
            "Epoch 15/50\n",
            " - 17s - loss: 0.0899 - acc: 0.1258\n",
            "Epoch 16/50\n",
            " - 17s - loss: 0.0899 - acc: 0.1342\n",
            "Epoch 17/50\n",
            " - 17s - loss: 0.0899 - acc: 0.1525\n",
            "Epoch 18/50\n",
            " - 17s - loss: 0.0899 - acc: 0.1617\n",
            "Epoch 19/50\n",
            " - 17s - loss: 0.0899 - acc: 0.1558\n",
            "Epoch 20/50\n",
            " - 17s - loss: 0.0899 - acc: 0.1667\n",
            "Epoch 21/50\n",
            " - 17s - loss: 0.0899 - acc: 0.1700\n",
            "Epoch 22/50\n",
            " - 17s - loss: 0.0899 - acc: 0.1708\n",
            "Epoch 23/50\n",
            " - 17s - loss: 0.0899 - acc: 0.1692\n",
            "Epoch 24/50\n",
            " - 17s - loss: 0.0899 - acc: 0.1658\n",
            "Epoch 25/50\n",
            " - 17s - loss: 0.0899 - acc: 0.1675\n",
            "Epoch 26/50\n",
            " - 18s - loss: 0.0899 - acc: 0.1700\n",
            "Epoch 27/50\n",
            " - 17s - loss: 0.0899 - acc: 0.1675\n",
            "Epoch 28/50\n",
            " - 17s - loss: 0.0899 - acc: 0.1725\n",
            "Epoch 29/50\n",
            " - 17s - loss: 0.0899 - acc: 0.1650\n",
            "Epoch 30/50\n",
            " - 17s - loss: 0.0899 - acc: 0.1717\n",
            "Epoch 31/50\n",
            " - 17s - loss: 0.0899 - acc: 0.1650\n",
            "Epoch 32/50\n",
            " - 17s - loss: 0.0898 - acc: 0.1675\n",
            "Epoch 33/50\n",
            " - 17s - loss: 0.0898 - acc: 0.1600\n",
            "Epoch 34/50\n",
            " - 17s - loss: 0.0898 - acc: 0.1567\n",
            "Epoch 35/50\n",
            " - 17s - loss: 0.0898 - acc: 0.1658\n",
            "Epoch 36/50\n",
            " - 17s - loss: 0.0898 - acc: 0.1683\n",
            "Epoch 37/50\n",
            " - 17s - loss: 0.0898 - acc: 0.1617\n",
            "Epoch 38/50\n",
            " - 17s - loss: 0.0898 - acc: 0.1658\n",
            "Epoch 39/50\n",
            " - 17s - loss: 0.0898 - acc: 0.1658\n",
            "Epoch 40/50\n",
            " - 17s - loss: 0.0898 - acc: 0.1617\n",
            "Epoch 41/50\n",
            " - 17s - loss: 0.0898 - acc: 0.1608\n",
            "Epoch 42/50\n",
            " - 17s - loss: 0.0898 - acc: 0.1667\n",
            "Epoch 43/50\n",
            " - 17s - loss: 0.0898 - acc: 0.1608\n",
            "Epoch 44/50\n",
            " - 18s - loss: 0.0898 - acc: 0.1600\n",
            "Epoch 45/50\n",
            " - 17s - loss: 0.0898 - acc: 0.1633\n",
            "Epoch 46/50\n",
            " - 17s - loss: 0.0898 - acc: 0.1500\n",
            "Epoch 47/50\n",
            " - 17s - loss: 0.0898 - acc: 0.1567\n",
            "Epoch 48/50\n",
            " - 17s - loss: 0.0898 - acc: 0.1542\n",
            "Epoch 49/50\n",
            " - 17s - loss: 0.0898 - acc: 0.1492\n",
            "Epoch 50/50\n",
            " - 17s - loss: 0.0898 - acc: 0.1567\n",
            "_________________________________________________________________\n",
            "Layer (type)                 Output Shape              Param #   \n",
            "=================================================================\n",
            "conv1d_1 (Conv1D)            (None, 2791, 64)          6464      \n",
            "_________________________________________________________________\n",
            "conv1d_2 (Conv1D)            (None, 2789, 32)          6176      \n",
            "_________________________________________________________________\n",
            "max_pooling1d_1 (MaxPooling1 (None, 929, 32)           0         \n",
            "_________________________________________________________________\n",
            "dropout_1 (Dropout)          (None, 929, 32)           0         \n",
            "_________________________________________________________________\n",
            "lstm_1 (LSTM)                (None, 5)                 760       \n",
            "_________________________________________________________________\n",
            "dense_1 (Dense)              (None, 10)                60        \n",
            "=================================================================\n",
            "Total params: 13,460\n",
            "Trainable params: 13,460\n",
            "Non-trainable params: 0\n",
            "_________________________________________________________________\n"
          ],
          "name": "stdout"
        },
        {
          "output_type": "display_data",
          "data": {
            "image/png": "[encoded data removed]",
            "text/plain": [
              "<Figure size 576x396 with 1 Axes>"
            ]
          },
          "metadata": {
            "tags": []
          }
        },
        {
          "output_type": "display_data",
          "data": {
            "image/png": "[encoded data removed]",
            "text/plain": [
              "<Figure size 576x396 with 1 Axes>"
            ]
          },
          "metadata": {
            "tags": []
          }
        },
        {
          "output_type": "stream",
          "text": [
            "600/600 [==============================] - 3s 5ms/step\n",
            "Test loss: 0.08978868216276169\n",
            "Test accuracy: 0.1499999992052714\n"
          ],
          "name": "stdout"
        }
      ]
    }
  ]
}